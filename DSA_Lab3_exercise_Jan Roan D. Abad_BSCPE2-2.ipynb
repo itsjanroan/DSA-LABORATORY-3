{
 "cells": [
  {
   "cell_type": "code",
   "execution_count": 2,
   "metadata": {},
   "outputs": [
    {
     "name": "stdout",
     "output_type": "stream",
     "text": [
      "The square of odd integers from your list: [1, 9, 25, 49]\n",
      "The square of odd integers from your list: []\n",
      "The square of odd integers from your list: [9]\n",
      "The square of odd integers from your list: [1, 1]\n",
      "Thank you and goodbye!\n"
     ]
    }
   ],
   "source": [
    "\n",
    "#LABORATORY 3 EXERCISE No. 1\n",
    "#CREATOR INFORMATION\n",
    "#NAME: Jan Roan D. Abad\n",
    "#SECTION: BSCPE 2-2\n",
    "#TASK: A program to create a list of squares of odd integers\n",
    "\n",
    "def square_odd_numbers(numbers):\n",
    "    # Using list comprehension to square odd numbers\n",
    "    return [x**2 for x in numbers if x % 2 != 0]\n",
    "\n",
    "while True:\n",
    "    # Getting a list of integers from the user\n",
    "    try:\n",
    "        # Ask the user for input and split it into a list of integers\n",
    "        user_input = input(\"Enter a list of integers separated by commas (e.g., 2, 4, 3): \")\n",
    "        number_list = list(map(int, user_input.split(',')))\n",
    "    except ValueError:\n",
    "        print(\"Oops! Please make sure you're entering integers separated by commas.\")\n",
    "        continue  # Let's go back and let them try again\n",
    "    \n",
    "    # Calculate the squares of the odd numbers in the list\n",
    "    result = square_odd_numbers(number_list)\n",
    "    \n",
    "    # Show the result\n",
    "    print(f\"The square of odd integers from your list: {result}\")\n",
    "    \n",
    "    # Ask the user if they want to try again\n",
    "    try_again = input(\"Would you like to try again? (yes or no): \").strip().lower()\n",
    "    \n",
    "    # If the user says 'no', we'll exit the loop\n",
    "    if try_again == 'no':\n",
    "        print(\"Thank you and goodbye!\")\n",
    "        break\n",
    "    elif try_again != 'yes':\n",
    "        print(\"I'll take that as a 'no'. Goodbye!\")\n",
    "        break"
   ]
  },
  {
   "cell_type": "code",
   "execution_count": 2,
   "metadata": {},
   "outputs": [
    {
     "name": "stdout",
     "output_type": "stream",
     "text": [
      "Here’s your list of tuples: [(1, 'mark'), (2, ' alice'), (3, ' john')]\n",
      "Here’s your list of tuples: [(4, 'lisa'), (5, ' bob')]\n",
      "Here’s your list of tuples: [(-1, 'amy'), (0, ' bob'), (1, ' claire')]\n",
      "Here’s your list of tuples: [(100, 'x'), (50, ' y'), (-30, ' z')]\n",
      "Thank you and goodbye!\n"
     ]
    }
   ],
   "source": [
    "#LABORATORY 3 EXERCISE No. 2\n",
    "#CREATOR INFORMATION\n",
    "#NAME: Jan Roan D. Abad\n",
    "#SECTION: BSCPE 2-2\n",
    "#TASK: A program that pairs up elements from two lists into a list of tuples\n",
    "\n",
    "def create_list_of_tuples(list1, list2):\n",
    "    # List comprehension to pair up elements from list1 and list2 into tuples\n",
    "    return [(list1[i], list2[i]) for i in range(min(len(list1), len(list2)))]\n",
    "\n",
    "while True:\n",
    "    try:\n",
    "        # First, let's get two lists from the user and split them into elements.\n",
    "        list1_input = input(\"Enter a list of numbers separated by commas (e.g., 1, 2, 3): \")\n",
    "        list2_input = input(\"Enter a list of names separated by commas (e.g., mark, alice, john): \")\n",
    "        \n",
    "        # Convert the first input into a list of integers\n",
    "        list1 = list(map(int, list1_input.split(',')))\n",
    "        \n",
    "        # Convert the second input into a list of strings\n",
    "        list2 = list(map(str, list2_input.split(',')))\n",
    "        \n",
    "    except ValueError:\n",
    "        print(\"Oops! Make sure your first list has only numbers and your second list has names.\")\n",
    "        continue  # Go back and let them try again\n",
    "    \n",
    "    # Now, let's create the list of tuples\n",
    "    result = create_list_of_tuples(list1, list2)\n",
    "    \n",
    "    # Show the result\n",
    "    print(f\"Here’s your list of tuples: {result}\")\n",
    "    \n",
    "    # Ask the user if they want to try again\n",
    "    try_again = input(\"Would you like to try again? (yes or no): \").strip().lower()\n",
    "    \n",
    "    # If the user says 'no', we'll exit the loop\n",
    "    if try_again == 'no':\n",
    "        print(\"Thank you and goodbye!\")\n",
    "        break\n",
    "    elif try_again != 'yes':\n",
    "        print(\"I'll take that as a 'no'. Goodbye!\")\n",
    "        break"
   ]
  },
  {
   "cell_type": "code",
   "execution_count": 3,
   "metadata": {},
   "outputs": [
    {
     "name": "stdout",
     "output_type": "stream",
     "text": [
      "Result with vowels in uppercase: \"HEllO, wOrld!\"\n",
      "Result with vowels in uppercase: \"hEllO hI byE\"\n",
      "Result with vowels in uppercase: \"ThIs Is fUn!\"\n",
      "Thank you and goodbye!\n"
     ]
    }
   ],
   "source": [
    "#LABORATORY 3 EXERCISE No. 3\n",
    "#CREATOR INFORMATION\n",
    "#NAME: Jan Roan D. Abad\n",
    "#SECTION: BSCPE 2-2\n",
    "#TASK: A function that turns all the vowels in a string into uppercase.\n",
    "\n",
    "def vowelsToUpper(input_string):\n",
    "    # List comprehension that checks each character and makes vowels uppercase\n",
    "    return ''.join([char.upper() if char in 'aeiouAEIOU' else char for char in input_string])\n",
    "\n",
    "while True:\n",
    "    # Let's ask the user for a string\n",
    "    user_input = input(\"Enter a string: \")\n",
    "    \n",
    "    # Call the vowelsToUpper function and get the result\n",
    "    result = vowelsToUpper(user_input)\n",
    "    \n",
    "    # Show the result\n",
    "    print(f\"Result with vowels in uppercase: {result}\")\n",
    "    \n",
    "    # Ask the user if they want to try again\n",
    "    try_again = input(\"Would you like to try again? (yes or no): \").strip().lower()\n",
    "    \n",
    "    # If the user says 'no', we'll exit the loop\n",
    "    if try_again == 'no':\n",
    "        print(\"Thank you and goodbye!\")\n",
    "        break\n",
    "    elif try_again != 'yes':\n",
    "        print(\"I'll take that as a 'no'. Goodbye!\")\n",
    "        break"
   ]
  }
 ],
 "metadata": {
  "kernelspec": {
   "display_name": "Python 3",
   "language": "python",
   "name": "python3"
  },
  "language_info": {
   "codemirror_mode": {
    "name": "ipython",
    "version": 3
   },
   "file_extension": ".py",
   "mimetype": "text/x-python",
   "name": "python",
   "nbconvert_exporter": "python",
   "pygments_lexer": "ipython3",
   "version": "3.11.4"
  }
 },
 "nbformat": 4,
 "nbformat_minor": 2
}
